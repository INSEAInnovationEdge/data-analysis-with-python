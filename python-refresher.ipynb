{
 "cells": [
  {
   "cell_type": "markdown",
   "id": "090031cc",
   "metadata": {},
   "source": [
    "# Introduction to Python\n",
    "\n",
    "Since its first release in 1991, Python has risen to become not just a popular general-purpose programming language, Python wasn't famous at the beginning and that was not just for its speed (compared to other programming languages) but also because of the way the code is structured yes using indentation wasn't convenient with text editors in the 90s, but now it is a preeminent computer language for data science and can be part of practically any phase of development but when it comes to Data science it is GOAT. \n",
    "\n",
    "The latest version of python is 3.10.3 but during this course I will be using 3.8.6 just because I like to use a version where all libraries are stable.\n",
    "\n",
    "Original material from python.org is Copyright (c) 2001-2019 Python Software Foundation.\n",
    "\n",
    "Jupyter Notebooks are divided into cells. Each cell contains either text written in the Markdown markup language or a space in which to write and execute computer code. Because all the code resides inside code cells, you can run each code cell inline rather than using a separate Python interactive window.\n",
    "\n",
    "> **Note**: This is not a python course but just a refreher about the language because I assume you have some experience with the language! "
   ]
  },
  {
   "cell_type": "markdown",
   "id": "1c55e7e2",
   "metadata": {},
   "source": [
    "# __Comments__\n",
    "\n",
    "Writing code is all fun and game at the moment, but when you have to revisit your code you will need to document it well and to do so you need to write comments so you can explain your code for people to read it and for you to understand it (Believe me you will need to)"
   ]
  },
  {
   "cell_type": "code",
   "execution_count": 1,
   "id": "dbfb3f85",
   "metadata": {},
   "outputs": [
    {
     "name": "stdout",
     "output_type": "stream",
     "text": [
      "Hello, World!\n"
     ]
    }
   ],
   "source": [
    "# This is a single line comment\n",
    "\"\"\"\n",
    "    This is a multiple lines comment\n",
    "    add it to functions, classes and files\n",
    "\"\"\"\n",
    "\n",
    "'''\n",
    "'''\n",
    "\n",
    "# Let's write our first code\n",
    "print(\"Hello, World!\")"
   ]
  },
  {
   "cell_type": "markdown",
   "id": "40c5f080",
   "metadata": {},
   "source": [
    "# Variables\n",
    "\n",
    "### Types\n",
    "\n",
    "Python have 4 types: \n",
    "<ol>\n",
    "    <li><b>int</b>: integers</li>\n",
    "    <li><b>float</b>: reel numbers</li>\n",
    "    <li><b>str</b>: Textual data, Strings are immutable sequences of Unicode code points</li>\n",
    "    <li><b>boolean</b>: True or False</li>\n",
    "</ol>\n",
    "\n",
    "### Operators \n",
    "\n",
    "Python provides many operators like:\n",
    "<ul>\n",
    "    <li><b>+</b>: addition</li>\n",
    "    <li><b>-</b>: substruct</li>\n",
    "    <li><b>/</b>: division</li>\n",
    "    <li><b>//</b>: integer division</li>\n",
    "    <li><b>%</b>: remainder of division</li>\n",
    "    <li><b>*</b>: multiplication</li>\n",
    "    <li><b>**</b>: power</li>\n",
    "</ul>\n",
    "\n",
    "### Play with variables"
   ]
  },
  {
   "cell_type": "code",
   "execution_count": 9,
   "id": "ed3f3c10",
   "metadata": {},
   "outputs": [
    {
     "data": {
      "text/plain": [
       "125"
      ]
     },
     "execution_count": 9,
     "metadata": {},
     "output_type": "execute_result"
    }
   ],
   "source": [
    "# integer operations\n",
    "\n",
    "x = 3\n",
    "y = 5\n",
    "\n",
    "z = y ** x \n",
    "\n",
    "z"
   ]
  },
  {
   "cell_type": "code",
   "execution_count": 12,
   "id": "e4faefcd",
   "metadata": {},
   "outputs": [
    {
     "data": {
      "text/plain": [
       "125"
      ]
     },
     "execution_count": 12,
     "metadata": {},
     "output_type": "execute_result"
    }
   ],
   "source": [
    "# for better performance use pow(base, exponent, modulus(optional)):\n",
    "\n",
    "pow(5,3)"
   ]
  },
  {
   "cell_type": "code",
   "execution_count": 13,
   "id": "9f03b919",
   "metadata": {},
   "outputs": [
    {
     "data": {
      "text/plain": [
       "12.2"
      ]
     },
     "execution_count": 13,
     "metadata": {},
     "output_type": "execute_result"
    }
   ],
   "source": [
    "# be careful with floats\n",
    "\n",
    "5.3 + 6.9"
   ]
  },
  {
   "cell_type": "code",
   "execution_count": 17,
   "id": "8a33ae99",
   "metadata": {},
   "outputs": [
    {
     "name": "stdout",
     "output_type": "stream",
     "text": [
      "hello Mahmoud\n",
      "SELECT * FROM student WHERE id = 1 classe = 2\n",
      "SELECT * FROM student WHERE id = 1 and classe = 2\n"
     ]
    }
   ],
   "source": [
    "# best way to insert values inside the string using f strings\n",
    "\n",
    "text = 'hello'\n",
    "text = \"hello\"\n",
    "\n",
    "a = \"Mahmoud\"\n",
    "\n",
    "print(f\"hello {a}\")\n",
    "\n",
    "print(\"SELECT * FROM student WHERE id =\", 1, \"classe =\", 2 )\n",
    "a,b = 1,2\n",
    "print(f\"SELECT * FROM student WHERE id = {a} and classe = {b}\")\n"
   ]
  },
  {
   "cell_type": "code",
   "execution_count": 23,
   "id": "85d1eb7c",
   "metadata": {},
   "outputs": [
    {
     "data": {
      "text/plain": [
       "True"
      ]
     },
     "execution_count": 23,
     "metadata": {},
     "output_type": "execute_result"
    }
   ],
   "source": [
    "# boolean values\n",
    "\n",
    "not \"i\" in \"mahmoud\" or a == 2"
   ]
  },
  {
   "cell_type": "code",
   "execution_count": 26,
   "id": "f63b98fe",
   "metadata": {},
   "outputs": [
    {
     "name": "stdout",
     "output_type": "stream",
     "text": [
      "2 1\n"
     ]
    }
   ],
   "source": [
    "# swap values\n",
    "\n",
    "a,b = 1,2\n",
    "\n",
    "a,b = b,a\n",
    "print(a,b)"
   ]
  },
  {
   "cell_type": "markdown",
   "id": "5ad12fa0",
   "metadata": {},
   "source": [
    "# Conditions"
   ]
  },
  {
   "cell_type": "code",
   "execution_count": 27,
   "id": "bc311d47",
   "metadata": {},
   "outputs": [
    {
     "name": "stdout",
     "output_type": "stream",
     "text": [
      "How are you?\n"
     ]
    }
   ],
   "source": [
    "# normal conditions \n",
    "import random\n",
    "\n",
    "n = random.randint(1,3)\n",
    "\n",
    "if n == 1:\n",
    "    print(\"Hi!\")\n",
    "elif n == 2:\n",
    "    print(\"Hello!\")\n",
    "else:\n",
    "    print(\"How are you?\")"
   ]
  },
  {
   "cell_type": "code",
   "execution_count": 31,
   "id": "73102ff8",
   "metadata": {},
   "outputs": [
    {
     "name": "stdout",
     "output_type": "stream",
     "text": [
      "3\n"
     ]
    },
    {
     "data": {
      "text/plain": [
       "2.0"
      ]
     },
     "execution_count": 31,
     "metadata": {},
     "output_type": "execute_result"
    }
   ],
   "source": [
    "# single line conditions\n",
    "\n",
    "n = random.randint(1,5)\n",
    "print(n)\n",
    "\n",
    "a = n/2 if n%2 == 0 else (n+1)/2\n",
    "a"
   ]
  },
  {
   "cell_type": "markdown",
   "id": "3883a705",
   "metadata": {},
   "source": [
    "# Loops\n",
    "\n",
    "Python provides two types of loops \n",
    "\n",
    "the while loops where you include a condition\n",
    "the for loop and you give it an iterable "
   ]
  },
  {
   "cell_type": "code",
   "execution_count": 34,
   "id": "bb60fdd9",
   "metadata": {},
   "outputs": [
    {
     "name": "stdout",
     "output_type": "stream",
     "text": [
      "0 1 2 3 4 5 6 7 8 9 "
     ]
    }
   ],
   "source": [
    "# while loop\n",
    "\n",
    "i = 0\n",
    "\n",
    "while i < 10:\n",
    "    print(i, end=\" \")\n",
    "    i += 1"
   ]
  },
  {
   "cell_type": "code",
   "execution_count": 78,
   "id": "f3d720c6",
   "metadata": {},
   "outputs": [
    {
     "name": "stdout",
     "output_type": "stream",
     "text": [
      "1 3 5 7 9 \n",
      "h w\n",
      "e o\n",
      "l r\n",
      "l l\n",
      "o d\n"
     ]
    }
   ],
   "source": [
    "# for loop\n",
    "\n",
    "for i in range(1,10,2):\n",
    "    print(i, end=\" \")\n",
    "\n",
    "print()\n",
    "\n",
    "for i,j in zip(list(\"hello\"),list(\"world\")):\n",
    "    print(i,j)"
   ]
  },
  {
   "cell_type": "code",
   "execution_count": 39,
   "id": "073238cf",
   "metadata": {},
   "outputs": [
    {
     "name": "stdout",
     "output_type": "stream",
     "text": [
      "value = 5 and  index = 0\n",
      "value = 6 and  index = 1\n",
      "value = 9 and  index = 2\n",
      "value = 7 and  index = 3\n",
      "value = 2 and  index = 4\n"
     ]
    }
   ],
   "source": [
    "# for loop with enumerate\n",
    "\n",
    "for i, value in enumerate([5,6,9,7,2]):\n",
    "    print(f\"value = {value} and  index = {i}\")"
   ]
  },
  {
   "cell_type": "code",
   "execution_count": 40,
   "id": "7f872c65",
   "metadata": {},
   "outputs": [
    {
     "name": "stdout",
     "output_type": "stream",
     "text": [
      "Help on class enumerate in module builtins:\n",
      "\n",
      "class enumerate(object)\n",
      " |  enumerate(iterable, start=0)\n",
      " |  \n",
      " |  Return an enumerate object.\n",
      " |  \n",
      " |    iterable\n",
      " |      an object supporting iteration\n",
      " |  \n",
      " |  The enumerate object yields pairs containing a count (from start, which\n",
      " |  defaults to zero) and a value yielded by the iterable argument.\n",
      " |  \n",
      " |  enumerate is useful for obtaining an indexed list:\n",
      " |      (0, seq[0]), (1, seq[1]), (2, seq[2]), ...\n",
      " |  \n",
      " |  Methods defined here:\n",
      " |  \n",
      " |  __getattribute__(self, name, /)\n",
      " |      Return getattr(self, name).\n",
      " |  \n",
      " |  __iter__(self, /)\n",
      " |      Implement iter(self).\n",
      " |  \n",
      " |  __next__(self, /)\n",
      " |      Implement next(self).\n",
      " |  \n",
      " |  __reduce__(...)\n",
      " |      Return state information for pickling.\n",
      " |  \n",
      " |  ----------------------------------------------------------------------\n",
      " |  Static methods defined here:\n",
      " |  \n",
      " |  __new__(*args, **kwargs) from builtins.type\n",
      " |      Create and return a new object.  See help(type) for accurate signature.\n",
      "\n"
     ]
    }
   ],
   "source": [
    "help(enumerate)"
   ]
  },
  {
   "cell_type": "markdown",
   "id": "57f73b45",
   "metadata": {},
   "source": [
    "# Functions\n",
    "\n",
    "Python provides two ways to define functions \n",
    "\n",
    "the normal functions using def\n",
    "the anonymous functions using lambda"
   ]
  },
  {
   "cell_type": "code",
   "execution_count": 42,
   "id": "f6c41710",
   "metadata": {},
   "outputs": [
    {
     "data": {
      "text/plain": [
       "'n = 3*1 + 2'"
      ]
     },
     "execution_count": 42,
     "metadata": {},
     "output_type": "execute_result"
    }
   ],
   "source": [
    "# use def\n",
    "\n",
    "def increment(i):\n",
    "    if i%3 == 0:\n",
    "        return f\"n = 3*{i//3}\"\n",
    "    elif i%3 == 1:\n",
    "        return f\"n = 3*{i//3} + 1\"\n",
    "    return f\"n = 3*{i//3} + 2\"\n",
    "\n",
    "n = increment(5)\n",
    "n"
   ]
  },
  {
   "cell_type": "code",
   "execution_count": 45,
   "id": "6d295c55",
   "metadata": {},
   "outputs": [
    {
     "data": {
      "text/plain": [
       "11"
      ]
     },
     "execution_count": 45,
     "metadata": {},
     "output_type": "execute_result"
    }
   ],
   "source": [
    "# use lambda\n",
    "\n",
    "f = lambda x,y: x+y\n",
    "f(6,5)"
   ]
  },
  {
   "cell_type": "markdown",
   "id": "7ee7d8ac",
   "metadata": {},
   "source": [
    "# Lists\n",
    "\n",
    "Lists in python are very easy to use compared to other porgramming languages, with many useful methods and ways to slice them!"
   ]
  },
  {
   "cell_type": "code",
   "execution_count": 57,
   "id": "b90e1302",
   "metadata": {},
   "outputs": [
    {
     "data": {
      "text/plain": [
       "[7, 9, 5]"
      ]
     },
     "execution_count": 57,
     "metadata": {},
     "output_type": "execute_result"
    }
   ],
   "source": [
    "# let's play with arrays \n",
    "\n",
    "l = list()\n",
    "l = [5,9,9,7]"
   ]
  },
  {
   "cell_type": "code",
   "execution_count": 62,
   "id": "1d56f011",
   "metadata": {},
   "outputs": [
    {
     "data": {
      "text/plain": [
       "[2, 11, 9, 10, 7, 11, 16, 11, 11]"
      ]
     },
     "execution_count": 62,
     "metadata": {},
     "output_type": "execute_result"
    }
   ],
   "source": [
    "# maps and comprehension\n",
    "\n",
    "l = list(range(1,10))\n",
    "[i + 1 for i in l]\n",
    "\n",
    "def f(x,y):\n",
    "    return x+y\n",
    "list(map(f, l, [random.randint(1,9) for _ in range(10)]))"
   ]
  },
  {
   "cell_type": "markdown",
   "id": "fd0acd2a",
   "metadata": {},
   "source": [
    "# Other Data Types\n",
    "\n",
    "Sets, dicts, tuples... are three of many other cool and very interesting data types that are provided with python\n",
    "let's discover them "
   ]
  },
  {
   "cell_type": "code",
   "execution_count": 64,
   "id": "9e6e88d6",
   "metadata": {},
   "outputs": [
    {
     "name": "stdout",
     "output_type": "stream",
     "text": [
      "[3, 9, 8, 2, 7, 1, 1, 5, 3, 6]\n"
     ]
    },
    {
     "data": {
      "text/plain": [
       "{1, 2, 3, 5, 6, 7, 8, 9}"
      ]
     },
     "execution_count": 64,
     "metadata": {},
     "output_type": "execute_result"
    }
   ],
   "source": [
    "# use sets\n",
    "\n",
    "l = [random.randint(1,9) for _ in range(10)]\n",
    "\n",
    "print(l)\n",
    "set(l)"
   ]
  },
  {
   "cell_type": "code",
   "execution_count": 66,
   "id": "11738265",
   "metadata": {},
   "outputs": [
    {
     "data": {
      "text/plain": [
       "21"
      ]
     },
     "execution_count": 66,
     "metadata": {},
     "output_type": "execute_result"
    }
   ],
   "source": [
    "# use dicts\n",
    "\n",
    "d = {\"age\": 21,\n",
    "     \"name\": \"mahmoud\",\n",
    "     \"nickname\": \"smauj\"}\n",
    "\n",
    "d['age']"
   ]
  },
  {
   "cell_type": "code",
   "execution_count": 68,
   "id": "f101d3a6",
   "metadata": {},
   "outputs": [
    {
     "ename": "TypeError",
     "evalue": "'tuple' object does not support item assignment",
     "output_type": "error",
     "traceback": [
      "\u001b[1;31m---------------------------------------------------------------------------\u001b[0m",
      "\u001b[1;31mTypeError\u001b[0m                                 Traceback (most recent call last)",
      "\u001b[1;32m<ipython-input-68-4b1d773dee5b>\u001b[0m in \u001b[0;36m<module>\u001b[1;34m\u001b[0m\n\u001b[0;32m      2\u001b[0m \u001b[1;33m\u001b[0m\u001b[0m\n\u001b[0;32m      3\u001b[0m \u001b[0mt\u001b[0m \u001b[1;33m=\u001b[0m \u001b[1;33m(\u001b[0m\u001b[1;36m3\u001b[0m\u001b[1;33m,\u001b[0m\u001b[1;36m4\u001b[0m\u001b[1;33m,\u001b[0m\u001b[1;36m7\u001b[0m\u001b[1;33m)\u001b[0m\u001b[1;33m\u001b[0m\u001b[1;33m\u001b[0m\u001b[0m\n\u001b[1;32m----> 4\u001b[1;33m \u001b[0mt\u001b[0m\u001b[1;33m[\u001b[0m\u001b[1;36m2\u001b[0m\u001b[1;33m]\u001b[0m \u001b[1;33m=\u001b[0m \u001b[1;36m5\u001b[0m\u001b[1;33m\u001b[0m\u001b[1;33m\u001b[0m\u001b[0m\n\u001b[0m",
      "\u001b[1;31mTypeError\u001b[0m: 'tuple' object does not support item assignment"
     ]
    }
   ],
   "source": [
    "# use tuples\n",
    "\n",
    "t = (3,4,7)\n",
    "t[2] = 5"
   ]
  },
  {
   "cell_type": "markdown",
   "id": "36474d04",
   "metadata": {},
   "source": [
    "# Try / Assert\n",
    "\n",
    "It is always good to spot the error and handle it even quiting excution but willingly"
   ]
  },
  {
   "cell_type": "code",
   "execution_count": 84,
   "id": "4d033c58",
   "metadata": {},
   "outputs": [
    {
     "ename": "AssertionError",
     "evalue": "x must be differnet than 0",
     "output_type": "error",
     "traceback": [
      "\u001b[1;31m---------------------------------------------------------------------------\u001b[0m",
      "\u001b[1;31mAssertionError\u001b[0m                            Traceback (most recent call last)",
      "\u001b[1;32m<ipython-input-84-d9fd9cd393aa>\u001b[0m in \u001b[0;36m<module>\u001b[1;34m\u001b[0m\n\u001b[0;32m      6\u001b[0m \u001b[0mx\u001b[0m \u001b[1;33m=\u001b[0m \u001b[1;36m0\u001b[0m\u001b[1;33m\u001b[0m\u001b[1;33m\u001b[0m\u001b[0m\n\u001b[0;32m      7\u001b[0m \u001b[1;33m\u001b[0m\u001b[0m\n\u001b[1;32m----> 8\u001b[1;33m \u001b[1;32massert\u001b[0m \u001b[0mx\u001b[0m \u001b[1;33m!=\u001b[0m \u001b[1;36m0\u001b[0m\u001b[1;33m,\u001b[0m \u001b[1;34m\"x must be differnet than 0\"\u001b[0m\u001b[1;33m\u001b[0m\u001b[1;33m\u001b[0m\u001b[0m\n\u001b[0m\u001b[0;32m      9\u001b[0m \u001b[0mlog\u001b[0m\u001b[1;33m(\u001b[0m\u001b[0mx\u001b[0m\u001b[1;33m)\u001b[0m\u001b[1;33m\u001b[0m\u001b[1;33m\u001b[0m\u001b[0m\n",
      "\u001b[1;31mAssertionError\u001b[0m: x must be differnet than 0"
     ]
    }
   ],
   "source": [
    "# assert \n",
    "x = 10\n",
    "from math import log\n",
    "\n",
    "log(x)\n",
    "x = 0\n",
    "\n",
    "assert x != 0, \"x must be differnet than 0\"\n",
    "log(x)"
   ]
  },
  {
   "cell_type": "code",
   "execution_count": 76,
   "id": "cc12ba93",
   "metadata": {},
   "outputs": [
    {
     "name": "stdout",
     "output_type": "stream",
     "text": [
      "0\n",
      "1\n",
      "2\n",
      "3\n",
      "4\n",
      "Array is of length 5\n"
     ]
    }
   ],
   "source": [
    "# try \n",
    "\n",
    "try:\n",
    "    l = range(5)\n",
    "    i = 0\n",
    "    while True:\n",
    "        print(l[i])\n",
    "        i += 1\n",
    "except IndexError:\n",
    "    print(f\"Array is of length {i}\")\n",
    "\n"
   ]
  },
  {
   "cell_type": "code",
   "execution_count": 71,
   "id": "e5f415c8",
   "metadata": {},
   "outputs": [
    {
     "name": "stdout",
     "output_type": "stream",
     "text": [
      "[(0, 5), (1, 3), (2, 8), (3, 9)]\n"
     ]
    }
   ],
   "source": [
    "l = [5,3,8,9]\n",
    "\n",
    "print(list(enumerate(l)))"
   ]
  }
 ],
 "metadata": {
  "kernelspec": {
   "display_name": "Python 3",
   "language": "python",
   "name": "python3"
  },
  "language_info": {
   "codemirror_mode": {
    "name": "ipython",
    "version": 3
   },
   "file_extension": ".py",
   "mimetype": "text/x-python",
   "name": "python",
   "nbconvert_exporter": "python",
   "pygments_lexer": "ipython3",
   "version": "3.8.6"
  }
 },
 "nbformat": 4,
 "nbformat_minor": 5
}
